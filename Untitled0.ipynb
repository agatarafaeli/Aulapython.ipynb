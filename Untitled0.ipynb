{
  "nbformat": 4,
  "nbformat_minor": 0,
  "metadata": {
    "colab": {
      "provenance": [],
      "authorship_tag": "ABX9TyO5VBGuf2dGI8qMW/QSVllB",
      "include_colab_link": true
    },
    "kernelspec": {
      "name": "python3",
      "display_name": "Python 3"
    },
    "language_info": {
      "name": "python"
    }
  },
  "cells": [
    {
      "cell_type": "markdown",
      "metadata": {
        "id": "view-in-github",
        "colab_type": "text"
      },
      "source": [
        "<a href=\"https://colab.research.google.com/github/agatarafaeli/Aulapython.ipynb/blob/main/Untitled0.ipynb\" target=\"_parent\"><img src=\"https://colab.research.google.com/assets/colab-badge.svg\" alt=\"Open In Colab\"/></a>"
      ]
    },
    {
      "cell_type": "code",
      "execution_count": null,
      "metadata": {
        "id": "Jb2clSFhh-jJ"
      },
      "outputs": [],
      "source": []
    },
    {
      "cell_type": "markdown",
      "source": [],
      "metadata": {
        "id": "QB2W6f25iMFA"
      }
    },
    {
      "cell_type": "markdown",
      "source": [
        "#**Aula 1** 💐 🌙 💓\n"
      ],
      "metadata": {
        "id": "cxZqlN3_iOBl"
      }
    },
    {
      "cell_type": "code",
      "source": [
        "print(\" I competição de programação de Start\")\n",
        "ano = \"IX\"\n",
        "print(print(f\"{ano} competição  de programação da Start\"))"
      ],
      "metadata": {
        "colab": {
          "base_uri": "https://localhost:8080/"
        },
        "id": "24Ym_c_pjkLK",
        "outputId": "464e3fac-9b5b-43bc-8b37-900fb86bf409"
      },
      "execution_count": 2,
      "outputs": [
        {
          "output_type": "stream",
          "name": "stdout",
          "text": [
            " I competição de programação de Start\n",
            "IX competição  de programação da Start\n",
            "None\n"
          ]
        }
      ]
    }
  ]
}